{
 "cells": [
  {
   "cell_type": "code",
   "execution_count": 2,
   "metadata": {},
   "outputs": [],
   "source": [
    "%matplotlib inline\n",
    "import matplotlib.pyplot as plt\n",
    "import seaborn as sns\n",
    "import pandas as pd\n",
    "from statsmodels import api as sm\n",
    "import numpy as np\n",
    "\n",
    "da = pd.read_csv(\"nhanes_2015_2016.csv\")"
   ]
  },
  {
   "cell_type": "code",
   "execution_count": 4,
   "metadata": {},
   "outputs": [
    {
     "data": {
      "text/html": [
       "<div>\n",
       "<style scoped>\n",
       "    .dataframe tbody tr th:only-of-type {\n",
       "        vertical-align: middle;\n",
       "    }\n",
       "\n",
       "    .dataframe tbody tr th {\n",
       "        vertical-align: top;\n",
       "    }\n",
       "\n",
       "    .dataframe thead th {\n",
       "        text-align: right;\n",
       "    }\n",
       "</style>\n",
       "<table border=\"1\" class=\"dataframe\">\n",
       "  <thead>\n",
       "    <tr style=\"text-align: right;\">\n",
       "      <th></th>\n",
       "      <th>SEQN</th>\n",
       "      <th>ALQ101</th>\n",
       "      <th>ALQ110</th>\n",
       "      <th>ALQ130</th>\n",
       "      <th>SMQ020</th>\n",
       "      <th>RIAGENDR</th>\n",
       "      <th>RIDAGEYR</th>\n",
       "      <th>RIDRETH1</th>\n",
       "      <th>DMDCITZN</th>\n",
       "      <th>DMDEDUC2</th>\n",
       "      <th>...</th>\n",
       "      <th>BPXSY2</th>\n",
       "      <th>BPXDI2</th>\n",
       "      <th>BMXWT</th>\n",
       "      <th>BMXHT</th>\n",
       "      <th>BMXBMI</th>\n",
       "      <th>BMXLEG</th>\n",
       "      <th>BMXARML</th>\n",
       "      <th>BMXARMC</th>\n",
       "      <th>BMXWAIST</th>\n",
       "      <th>HIQ210</th>\n",
       "    </tr>\n",
       "  </thead>\n",
       "  <tbody>\n",
       "    <tr>\n",
       "      <th>0</th>\n",
       "      <td>83732</td>\n",
       "      <td>1.0</td>\n",
       "      <td>NaN</td>\n",
       "      <td>1.0</td>\n",
       "      <td>1</td>\n",
       "      <td>1</td>\n",
       "      <td>62</td>\n",
       "      <td>3</td>\n",
       "      <td>1.0</td>\n",
       "      <td>5.0</td>\n",
       "      <td>...</td>\n",
       "      <td>124.0</td>\n",
       "      <td>64.0</td>\n",
       "      <td>94.8</td>\n",
       "      <td>184.5</td>\n",
       "      <td>27.8</td>\n",
       "      <td>43.3</td>\n",
       "      <td>43.6</td>\n",
       "      <td>35.9</td>\n",
       "      <td>101.1</td>\n",
       "      <td>2.0</td>\n",
       "    </tr>\n",
       "    <tr>\n",
       "      <th>1</th>\n",
       "      <td>83733</td>\n",
       "      <td>1.0</td>\n",
       "      <td>NaN</td>\n",
       "      <td>6.0</td>\n",
       "      <td>1</td>\n",
       "      <td>1</td>\n",
       "      <td>53</td>\n",
       "      <td>3</td>\n",
       "      <td>2.0</td>\n",
       "      <td>3.0</td>\n",
       "      <td>...</td>\n",
       "      <td>140.0</td>\n",
       "      <td>88.0</td>\n",
       "      <td>90.4</td>\n",
       "      <td>171.4</td>\n",
       "      <td>30.8</td>\n",
       "      <td>38.0</td>\n",
       "      <td>40.0</td>\n",
       "      <td>33.2</td>\n",
       "      <td>107.9</td>\n",
       "      <td>NaN</td>\n",
       "    </tr>\n",
       "    <tr>\n",
       "      <th>2</th>\n",
       "      <td>83734</td>\n",
       "      <td>1.0</td>\n",
       "      <td>NaN</td>\n",
       "      <td>NaN</td>\n",
       "      <td>1</td>\n",
       "      <td>1</td>\n",
       "      <td>78</td>\n",
       "      <td>3</td>\n",
       "      <td>1.0</td>\n",
       "      <td>3.0</td>\n",
       "      <td>...</td>\n",
       "      <td>132.0</td>\n",
       "      <td>44.0</td>\n",
       "      <td>83.4</td>\n",
       "      <td>170.1</td>\n",
       "      <td>28.8</td>\n",
       "      <td>35.6</td>\n",
       "      <td>37.0</td>\n",
       "      <td>31.0</td>\n",
       "      <td>116.5</td>\n",
       "      <td>2.0</td>\n",
       "    </tr>\n",
       "    <tr>\n",
       "      <th>3</th>\n",
       "      <td>83735</td>\n",
       "      <td>2.0</td>\n",
       "      <td>1.0</td>\n",
       "      <td>1.0</td>\n",
       "      <td>2</td>\n",
       "      <td>2</td>\n",
       "      <td>56</td>\n",
       "      <td>3</td>\n",
       "      <td>1.0</td>\n",
       "      <td>5.0</td>\n",
       "      <td>...</td>\n",
       "      <td>134.0</td>\n",
       "      <td>68.0</td>\n",
       "      <td>109.8</td>\n",
       "      <td>160.9</td>\n",
       "      <td>42.4</td>\n",
       "      <td>38.5</td>\n",
       "      <td>37.7</td>\n",
       "      <td>38.3</td>\n",
       "      <td>110.1</td>\n",
       "      <td>2.0</td>\n",
       "    </tr>\n",
       "    <tr>\n",
       "      <th>4</th>\n",
       "      <td>83736</td>\n",
       "      <td>2.0</td>\n",
       "      <td>1.0</td>\n",
       "      <td>1.0</td>\n",
       "      <td>2</td>\n",
       "      <td>2</td>\n",
       "      <td>42</td>\n",
       "      <td>4</td>\n",
       "      <td>1.0</td>\n",
       "      <td>4.0</td>\n",
       "      <td>...</td>\n",
       "      <td>114.0</td>\n",
       "      <td>54.0</td>\n",
       "      <td>55.2</td>\n",
       "      <td>164.9</td>\n",
       "      <td>20.3</td>\n",
       "      <td>37.4</td>\n",
       "      <td>36.0</td>\n",
       "      <td>27.2</td>\n",
       "      <td>80.4</td>\n",
       "      <td>2.0</td>\n",
       "    </tr>\n",
       "  </tbody>\n",
       "</table>\n",
       "<p>5 rows × 28 columns</p>\n",
       "</div>"
      ],
      "text/plain": [
       "    SEQN  ALQ101  ALQ110  ALQ130  SMQ020  RIAGENDR  RIDAGEYR  RIDRETH1  \\\n",
       "0  83732     1.0     NaN     1.0       1         1        62         3   \n",
       "1  83733     1.0     NaN     6.0       1         1        53         3   \n",
       "2  83734     1.0     NaN     NaN       1         1        78         3   \n",
       "3  83735     2.0     1.0     1.0       2         2        56         3   \n",
       "4  83736     2.0     1.0     1.0       2         2        42         4   \n",
       "\n",
       "   DMDCITZN  DMDEDUC2  ...  BPXSY2  BPXDI2  BMXWT  BMXHT  BMXBMI  BMXLEG  \\\n",
       "0       1.0       5.0  ...   124.0    64.0   94.8  184.5    27.8    43.3   \n",
       "1       2.0       3.0  ...   140.0    88.0   90.4  171.4    30.8    38.0   \n",
       "2       1.0       3.0  ...   132.0    44.0   83.4  170.1    28.8    35.6   \n",
       "3       1.0       5.0  ...   134.0    68.0  109.8  160.9    42.4    38.5   \n",
       "4       1.0       4.0  ...   114.0    54.0   55.2  164.9    20.3    37.4   \n",
       "\n",
       "   BMXARML  BMXARMC  BMXWAIST  HIQ210  \n",
       "0     43.6     35.9     101.1     2.0  \n",
       "1     40.0     33.2     107.9     NaN  \n",
       "2     37.0     31.0     116.5     2.0  \n",
       "3     37.7     38.3     110.1     2.0  \n",
       "4     36.0     27.2      80.4     2.0  \n",
       "\n",
       "[5 rows x 28 columns]"
      ]
     },
     "execution_count": 4,
     "metadata": {},
     "output_type": "execute_result"
    }
   ],
   "source": [
    "da.head()"
   ]
  },
  {
   "cell_type": "code",
   "execution_count": 5,
   "metadata": {},
   "outputs": [
    {
     "data": {
      "text/plain": [
       "Married                2780\n",
       "Never married          1004\n",
       "Divorced                579\n",
       "Living with partner     527\n",
       "Widowed                 396\n",
       "Missing                 261\n",
       "Separated               186\n",
       "Refused                   2\n",
       "Name: DMDMARTLx, dtype: int64"
      ]
     },
     "execution_count": 5,
     "metadata": {},
     "output_type": "execute_result"
    }
   ],
   "source": [
    "da[\"DMDMARTLx\"] = da.DMDMARTL.replace({1: \"Married\", 2: \"Widowed\", 3: \"Divorced\", 4: \"Separated\", 5: \"Never married\", \n",
    "                                       6: \"Living with partner\", 77: \"Refused\", 9: \"Don't know\"}).fillna(\"Missing\")\n",
    "da.DMDMARTLx.value_counts()"
   ]
  },
  {
   "cell_type": "code",
   "execution_count": 6,
   "metadata": {},
   "outputs": [
    {
     "data": {
      "text/plain": [
       "Female    2976\n",
       "Male      2759\n",
       "Name: RIAGENDRx, dtype: int64"
      ]
     },
     "execution_count": 6,
     "metadata": {},
     "output_type": "execute_result"
    }
   ],
   "source": [
    "da[\"RIAGENDRx\"]=da.RIAGENDR.replace({1:\"Male\", 2: \"Female\"})\n",
    "da.RIAGENDRx.value_counts()"
   ]
  },
  {
   "cell_type": "code",
   "execution_count": 7,
   "metadata": {},
   "outputs": [
    {
     "data": {
      "text/plain": [
       "Married                1303\n",
       "Never married           520\n",
       "Divorced                350\n",
       "Widowed                 296\n",
       "Living with partner     262\n",
       "Missing                 126\n",
       "Separated               118\n",
       "Refused                   1\n",
       "Name: DMDMARTLx, dtype: int64"
      ]
     },
     "execution_count": 7,
     "metadata": {},
     "output_type": "execute_result"
    }
   ],
   "source": [
    "da[da[\"RIAGENDRx\"]==\"Female\"].DMDMARTLx.value_counts()"
   ]
  },
  {
   "cell_type": "code",
   "execution_count": 8,
   "metadata": {},
   "outputs": [
    {
     "data": {
      "text/plain": [
       "Married                1477\n",
       "Never married           484\n",
       "Living with partner     265\n",
       "Divorced                229\n",
       "Missing                 135\n",
       "Widowed                 100\n",
       "Separated                68\n",
       "Refused                   1\n",
       "Name: DMDMARTLx, dtype: int64"
      ]
     },
     "execution_count": 8,
     "metadata": {},
     "output_type": "execute_result"
    }
   ],
   "source": [
    "da[da[\"RIAGENDRx\"]==\"Male\"].DMDMARTLx.value_counts()"
   ]
  },
  {
   "cell_type": "code",
   "execution_count": 9,
   "metadata": {},
   "outputs": [
    {
     "data": {
      "text/plain": [
       "Married                0.437836\n",
       "Never married          0.174731\n",
       "Divorced               0.117608\n",
       "Widowed                0.099462\n",
       "Living with partner    0.088038\n",
       "Missing                0.042339\n",
       "Separated              0.039651\n",
       "Refused                0.000336\n",
       "Name: DMDMARTLx, dtype: float64"
      ]
     },
     "execution_count": 9,
     "metadata": {},
     "output_type": "execute_result"
    }
   ],
   "source": [
    "da[da[\"RIAGENDRx\"]==\"Female\"].DMDMARTLx.value_counts()/da[da[\"RIAGENDRx\"]==\"Female\"].shape[0]"
   ]
  },
  {
   "cell_type": "code",
   "execution_count": 11,
   "metadata": {},
   "outputs": [
    {
     "data": {
      "text/plain": [
       "Married                0.535339\n",
       "Never married          0.175426\n",
       "Living with partner    0.096049\n",
       "Divorced               0.083001\n",
       "Missing                0.048931\n",
       "Widowed                0.036245\n",
       "Separated              0.024647\n",
       "Refused                0.000362\n",
       "Name: DMDMARTLx, dtype: float64"
      ]
     },
     "execution_count": 11,
     "metadata": {},
     "output_type": "execute_result"
    }
   ],
   "source": [
    "da[da[\"RIAGENDRx\"]==\"Male\"].DMDMARTLx.value_counts()/da[da[\"RIAGENDRx\"]==\"Male\"].shape[0]"
   ]
  },
  {
   "cell_type": "code",
   "execution_count": 13,
   "metadata": {},
   "outputs": [],
   "source": [
    "daFemale = da[da[\"RIAGENDRx\"]==\"Female\"]"
   ]
  },
  {
   "cell_type": "code",
   "execution_count": 14,
   "metadata": {},
   "outputs": [],
   "source": [
    "daMale = da[da[\"RIAGENDRx\"]==\"Male\"]"
   ]
  },
  {
   "cell_type": "code",
   "execution_count": 17,
   "metadata": {},
   "outputs": [
    {
     "data": {
      "text/plain": [
       "Married                285\n",
       "Never married          116\n",
       "Living with partner     65\n",
       "Divorced                46\n",
       "Separated               18\n",
       "Widowed                  2\n",
       "Name: DMDMARTLx, dtype: int64"
      ]
     },
     "execution_count": 17,
     "metadata": {},
     "output_type": "execute_result"
    }
   ],
   "source": [
    "daFemale[(daFemale[\"RIDAGEYR\"]>=30) & (daFemale[\"RIDAGEYR\"]<=40)].DMDMARTLx.value_counts()"
   ]
  },
  {
   "cell_type": "code",
   "execution_count": 27,
   "metadata": {},
   "outputs": [
    {
     "data": {
      "text/plain": [
       "Married                0.535714\n",
       "Never married          0.218045\n",
       "Living with partner    0.122180\n",
       "Divorced               0.086466\n",
       "Separated              0.033835\n",
       "Widowed                0.003759\n",
       "Name: DMDMARTLx, dtype: float64"
      ]
     },
     "execution_count": 27,
     "metadata": {},
     "output_type": "execute_result"
    }
   ],
   "source": [
    "daFemale[(daFemale[\"RIDAGEYR\"]>=30) & (daFemale[\"RIDAGEYR\"]<=40)].DMDMARTLx.value_counts()/daFemale[(daFemale[\"RIDAGEYR\"]>=30) & (daFemale[\"RIDAGEYR\"]<=40)].shape[0]"
   ]
  },
  {
   "cell_type": "code",
   "execution_count": 19,
   "metadata": {},
   "outputs": [
    {
     "data": {
      "text/plain": [
       "Married                0.556680\n",
       "Never married          0.204453\n",
       "Living with partner    0.157895\n",
       "Divorced               0.048583\n",
       "Separated              0.024291\n",
       "Widowed                0.006073\n",
       "Refused                0.002024\n",
       "Name: DMDMARTLx, dtype: float64"
      ]
     },
     "execution_count": 19,
     "metadata": {},
     "output_type": "execute_result"
    }
   ],
   "source": [
    "daMale[(daMale[\"RIDAGEYR\"]>=30) & (daMale[\"RIDAGEYR\"]<=40)].DMDMARTLx.value_counts()/daMale[(daMale[\"RIDAGEYR\"]>=30) & (daMale[\"RIDAGEYR\"]<=40)].shape[0]"
   ]
  },
  {
   "cell_type": "code",
   "execution_count": 32,
   "metadata": {},
   "outputs": [
    {
     "data": {
      "text/html": [
       "<div>\n",
       "<style scoped>\n",
       "    .dataframe tbody tr th:only-of-type {\n",
       "        vertical-align: middle;\n",
       "    }\n",
       "\n",
       "    .dataframe tbody tr th {\n",
       "        vertical-align: top;\n",
       "    }\n",
       "\n",
       "    .dataframe thead th {\n",
       "        text-align: right;\n",
       "    }\n",
       "</style>\n",
       "<table border=\"1\" class=\"dataframe\">\n",
       "  <thead>\n",
       "    <tr style=\"text-align: right;\">\n",
       "      <th>DMDMARTLx</th>\n",
       "      <th>Divorced</th>\n",
       "      <th>Living with partner</th>\n",
       "      <th>Married</th>\n",
       "      <th>Missing</th>\n",
       "      <th>Never married</th>\n",
       "      <th>Refused</th>\n",
       "      <th>Separated</th>\n",
       "      <th>Widowed</th>\n",
       "    </tr>\n",
       "    <tr>\n",
       "      <th>RIAGENDRx</th>\n",
       "      <th></th>\n",
       "      <th></th>\n",
       "      <th></th>\n",
       "      <th></th>\n",
       "      <th></th>\n",
       "      <th></th>\n",
       "      <th></th>\n",
       "      <th></th>\n",
       "    </tr>\n",
       "  </thead>\n",
       "  <tbody>\n",
       "    <tr>\n",
       "      <th>Female</th>\n",
       "      <td>350</td>\n",
       "      <td>262</td>\n",
       "      <td>1303</td>\n",
       "      <td>126</td>\n",
       "      <td>520</td>\n",
       "      <td>1</td>\n",
       "      <td>118</td>\n",
       "      <td>296</td>\n",
       "    </tr>\n",
       "    <tr>\n",
       "      <th>Male</th>\n",
       "      <td>229</td>\n",
       "      <td>265</td>\n",
       "      <td>1477</td>\n",
       "      <td>135</td>\n",
       "      <td>484</td>\n",
       "      <td>1</td>\n",
       "      <td>68</td>\n",
       "      <td>100</td>\n",
       "    </tr>\n",
       "  </tbody>\n",
       "</table>\n",
       "</div>"
      ],
      "text/plain": [
       "DMDMARTLx  Divorced  Living with partner  Married  Missing  Never married  \\\n",
       "RIAGENDRx                                                                   \n",
       "Female          350                  262     1303      126            520   \n",
       "Male            229                  265     1477      135            484   \n",
       "\n",
       "DMDMARTLx  Refused  Separated  Widowed  \n",
       "RIAGENDRx                               \n",
       "Female           1        118      296  \n",
       "Male             1         68      100  "
      ]
     },
     "execution_count": 32,
     "metadata": {},
     "output_type": "execute_result"
    }
   ],
   "source": [
    "dx = da.groupby(\"RIAGENDRx\")[\"DMDMARTLx\"].value_counts().unstack()\n",
    "dx"
   ]
  },
  {
   "cell_type": "code",
   "execution_count": 33,
   "metadata": {},
   "outputs": [
    {
     "name": "stdout",
     "output_type": "stream",
     "text": [
      "DMDMARTLx  Divorced  Living with partner  Married  Missing  Never married  Refused  Separated  Widowed\n",
      "RIAGENDRx                                                                                             \n",
      "Female       0.6045               0.4972   0.4687   0.4828         0.5179   0.5000     0.6344   0.7475\n",
      "Male         0.3955               0.5028   0.5313   0.5172         0.4821   0.5000     0.3656   0.2525\n"
     ]
    }
   ],
   "source": [
    "dx = dx.apply(lambda x: x/x.sum(), axis=0)\n",
    "print(dx.to_string(float_format=\"%.4f\"))"
   ]
  },
  {
   "cell_type": "code",
   "execution_count": 30,
   "metadata": {},
   "outputs": [
    {
     "name": "stdout",
     "output_type": "stream",
     "text": [
      "RIAGENDRx            Female   Male\n",
      "DMDMARTLx                         \n",
      "Divorced             0.1176 0.0830\n",
      "Living with partner  0.0880 0.0960\n",
      "Married              0.4378 0.5353\n",
      "Missing              0.0423 0.0489\n",
      "Never married        0.1747 0.1754\n",
      "Refused              0.0003 0.0004\n",
      "Separated            0.0397 0.0246\n",
      "Widowed              0.0995 0.0362\n"
     ]
    }
   ],
   "source": [
    "dx = da.groupby([\"DMDMARTLx\"])[\"RIAGENDRx\"].value_counts().unstack()\n",
    "dx = dx.apply(lambda x: x/x.sum(), axis=0)\n",
    "print(dx.to_string(float_format=\"%.4f\"))"
   ]
  },
  {
   "cell_type": "code",
   "execution_count": 34,
   "metadata": {},
   "outputs": [
    {
     "data": {
      "text/plain": [
       "80"
      ]
     },
     "execution_count": 34,
     "metadata": {},
     "output_type": "execute_result"
    }
   ],
   "source": [
    "da[\"RIDAGEYR\"].max()"
   ]
  },
  {
   "cell_type": "code",
   "execution_count": 35,
   "metadata": {},
   "outputs": [
    {
     "data": {
      "text/plain": [
       "18"
      ]
     },
     "execution_count": 35,
     "metadata": {},
     "output_type": "execute_result"
    }
   ],
   "source": [
    "da[\"RIDAGEYR\"].min()"
   ]
  },
  {
   "cell_type": "code",
   "execution_count": 37,
   "metadata": {},
   "outputs": [
    {
     "name": "stderr",
     "output_type": "stream",
     "text": [
      "C:\\Users\\User\\Anaconda3\\lib\\site-packages\\ipykernel_launcher.py:1: SettingWithCopyWarning: \n",
      "A value is trying to be set on a copy of a slice from a DataFrame.\n",
      "Try using .loc[row_indexer,col_indexer] = value instead\n",
      "\n",
      "See the caveats in the documentation: http://pandas.pydata.org/pandas-docs/stable/indexing.html#indexing-view-versus-copy\n",
      "  \"\"\"Entry point for launching an IPython kernel.\n"
     ]
    }
   ],
   "source": [
    "daFemale[\"agegrp2\"] = pd.cut(da.RIDAGEYR, [10, 20, 30, 40, 50, 60, 70, 80])"
   ]
  },
  {
   "cell_type": "code",
   "execution_count": 38,
   "metadata": {},
   "outputs": [],
   "source": [
    "dx = daFemale.groupby(\"agegrp2\")[\"DMDMARTLx\"].value_counts().unstack()"
   ]
  },
  {
   "cell_type": "code",
   "execution_count": 39,
   "metadata": {},
   "outputs": [
    {
     "data": {
      "text/html": [
       "<div>\n",
       "<style scoped>\n",
       "    .dataframe tbody tr th:only-of-type {\n",
       "        vertical-align: middle;\n",
       "    }\n",
       "\n",
       "    .dataframe tbody tr th {\n",
       "        vertical-align: top;\n",
       "    }\n",
       "\n",
       "    .dataframe thead th {\n",
       "        text-align: right;\n",
       "    }\n",
       "</style>\n",
       "<table border=\"1\" class=\"dataframe\">\n",
       "  <thead>\n",
       "    <tr style=\"text-align: right;\">\n",
       "      <th>DMDMARTLx</th>\n",
       "      <th>Divorced</th>\n",
       "      <th>Living with partner</th>\n",
       "      <th>Married</th>\n",
       "      <th>Missing</th>\n",
       "      <th>Never married</th>\n",
       "      <th>Refused</th>\n",
       "      <th>Separated</th>\n",
       "      <th>Widowed</th>\n",
       "    </tr>\n",
       "    <tr>\n",
       "      <th>agegrp2</th>\n",
       "      <th></th>\n",
       "      <th></th>\n",
       "      <th></th>\n",
       "      <th></th>\n",
       "      <th></th>\n",
       "      <th></th>\n",
       "      <th></th>\n",
       "      <th></th>\n",
       "    </tr>\n",
       "  </thead>\n",
       "  <tbody>\n",
       "    <tr>\n",
       "      <th>(10, 20]</th>\n",
       "      <td>NaN</td>\n",
       "      <td>8.0</td>\n",
       "      <td>1.0</td>\n",
       "      <td>126.0</td>\n",
       "      <td>30.0</td>\n",
       "      <td>NaN</td>\n",
       "      <td>NaN</td>\n",
       "      <td>NaN</td>\n",
       "    </tr>\n",
       "    <tr>\n",
       "      <th>(20, 30]</th>\n",
       "      <td>11.0</td>\n",
       "      <td>106.0</td>\n",
       "      <td>157.0</td>\n",
       "      <td>NaN</td>\n",
       "      <td>229.0</td>\n",
       "      <td>NaN</td>\n",
       "      <td>11.0</td>\n",
       "      <td>NaN</td>\n",
       "    </tr>\n",
       "    <tr>\n",
       "      <th>(30, 40]</th>\n",
       "      <td>43.0</td>\n",
       "      <td>57.0</td>\n",
       "      <td>258.0</td>\n",
       "      <td>NaN</td>\n",
       "      <td>97.0</td>\n",
       "      <td>NaN</td>\n",
       "      <td>17.0</td>\n",
       "      <td>2.0</td>\n",
       "    </tr>\n",
       "    <tr>\n",
       "      <th>(40, 50]</th>\n",
       "      <td>69.0</td>\n",
       "      <td>37.0</td>\n",
       "      <td>288.0</td>\n",
       "      <td>NaN</td>\n",
       "      <td>63.0</td>\n",
       "      <td>NaN</td>\n",
       "      <td>33.0</td>\n",
       "      <td>12.0</td>\n",
       "    </tr>\n",
       "    <tr>\n",
       "      <th>(50, 60]</th>\n",
       "      <td>83.0</td>\n",
       "      <td>32.0</td>\n",
       "      <td>257.0</td>\n",
       "      <td>NaN</td>\n",
       "      <td>42.0</td>\n",
       "      <td>1.0</td>\n",
       "      <td>27.0</td>\n",
       "      <td>28.0</td>\n",
       "    </tr>\n",
       "    <tr>\n",
       "      <th>(60, 70]</th>\n",
       "      <td>85.0</td>\n",
       "      <td>19.0</td>\n",
       "      <td>212.0</td>\n",
       "      <td>NaN</td>\n",
       "      <td>38.0</td>\n",
       "      <td>NaN</td>\n",
       "      <td>22.0</td>\n",
       "      <td>65.0</td>\n",
       "    </tr>\n",
       "    <tr>\n",
       "      <th>(70, 80]</th>\n",
       "      <td>59.0</td>\n",
       "      <td>3.0</td>\n",
       "      <td>130.0</td>\n",
       "      <td>NaN</td>\n",
       "      <td>21.0</td>\n",
       "      <td>NaN</td>\n",
       "      <td>8.0</td>\n",
       "      <td>189.0</td>\n",
       "    </tr>\n",
       "  </tbody>\n",
       "</table>\n",
       "</div>"
      ],
      "text/plain": [
       "DMDMARTLx  Divorced  Living with partner  Married  Missing  Never married  \\\n",
       "agegrp2                                                                     \n",
       "(10, 20]        NaN                  8.0      1.0    126.0           30.0   \n",
       "(20, 30]       11.0                106.0    157.0      NaN          229.0   \n",
       "(30, 40]       43.0                 57.0    258.0      NaN           97.0   \n",
       "(40, 50]       69.0                 37.0    288.0      NaN           63.0   \n",
       "(50, 60]       83.0                 32.0    257.0      NaN           42.0   \n",
       "(60, 70]       85.0                 19.0    212.0      NaN           38.0   \n",
       "(70, 80]       59.0                  3.0    130.0      NaN           21.0   \n",
       "\n",
       "DMDMARTLx  Refused  Separated  Widowed  \n",
       "agegrp2                                 \n",
       "(10, 20]       NaN        NaN      NaN  \n",
       "(20, 30]       NaN       11.0      NaN  \n",
       "(30, 40]       NaN       17.0      2.0  \n",
       "(40, 50]       NaN       33.0     12.0  \n",
       "(50, 60]       1.0       27.0     28.0  \n",
       "(60, 70]       NaN       22.0     65.0  \n",
       "(70, 80]       NaN        8.0    189.0  "
      ]
     },
     "execution_count": 39,
     "metadata": {},
     "output_type": "execute_result"
    }
   ],
   "source": [
    "dx"
   ]
  },
  {
   "cell_type": "code",
   "execution_count": 41,
   "metadata": {},
   "outputs": [
    {
     "name": "stdout",
     "output_type": "stream",
     "text": [
      "DMDMARTLx  Divorced  Living with partner  Married  Missing  Never married  Refused  Separated  Widowed\n",
      "agegrp2                                                                                               \n",
      "(10, 20]        NaN                 0.03     0.00     1.00           0.06      NaN        NaN      NaN\n",
      "(20, 30]       0.03                 0.40     0.12      NaN           0.44      NaN       0.09      NaN\n",
      "(30, 40]       0.12                 0.22     0.20      NaN           0.19      NaN       0.14     0.01\n",
      "(40, 50]       0.20                 0.14     0.22      NaN           0.12      NaN       0.28     0.04\n",
      "(50, 60]       0.24                 0.12     0.20      NaN           0.08     1.00       0.23     0.09\n",
      "(60, 70]       0.24                 0.07     0.16      NaN           0.07      NaN       0.19     0.22\n",
      "(70, 80]       0.17                 0.01     0.10      NaN           0.04      NaN       0.07     0.64\n"
     ]
    }
   ],
   "source": [
    "dx = dx.apply(lambda y: y/y.sum(), axis=0)\n",
    "print(dx.to_string(float_format=\"%0.2f\"))"
   ]
  },
  {
   "cell_type": "code",
   "execution_count": 43,
   "metadata": {},
   "outputs": [
    {
     "data": {
      "text/html": [
       "<div>\n",
       "<style scoped>\n",
       "    .dataframe tbody tr th:only-of-type {\n",
       "        vertical-align: middle;\n",
       "    }\n",
       "\n",
       "    .dataframe tbody tr th {\n",
       "        vertical-align: top;\n",
       "    }\n",
       "\n",
       "    .dataframe thead th {\n",
       "        text-align: right;\n",
       "    }\n",
       "</style>\n",
       "<table border=\"1\" class=\"dataframe\">\n",
       "  <thead>\n",
       "    <tr style=\"text-align: right;\">\n",
       "      <th>DMDMARTLx</th>\n",
       "      <th>Divorced</th>\n",
       "      <th>Living with partner</th>\n",
       "      <th>Married</th>\n",
       "      <th>Missing</th>\n",
       "      <th>Never married</th>\n",
       "      <th>Refused</th>\n",
       "      <th>Separated</th>\n",
       "      <th>Widowed</th>\n",
       "    </tr>\n",
       "    <tr>\n",
       "      <th>agegrp2</th>\n",
       "      <th></th>\n",
       "      <th></th>\n",
       "      <th></th>\n",
       "      <th></th>\n",
       "      <th></th>\n",
       "      <th></th>\n",
       "      <th></th>\n",
       "      <th></th>\n",
       "    </tr>\n",
       "  </thead>\n",
       "  <tbody>\n",
       "    <tr>\n",
       "      <th>(10, 20]</th>\n",
       "      <td>NaN</td>\n",
       "      <td>0.048485</td>\n",
       "      <td>0.006061</td>\n",
       "      <td>0.763636</td>\n",
       "      <td>0.181818</td>\n",
       "      <td>NaN</td>\n",
       "      <td>NaN</td>\n",
       "      <td>NaN</td>\n",
       "    </tr>\n",
       "    <tr>\n",
       "      <th>(20, 30]</th>\n",
       "      <td>0.021401</td>\n",
       "      <td>0.206226</td>\n",
       "      <td>0.305447</td>\n",
       "      <td>NaN</td>\n",
       "      <td>0.445525</td>\n",
       "      <td>NaN</td>\n",
       "      <td>0.021401</td>\n",
       "      <td>NaN</td>\n",
       "    </tr>\n",
       "    <tr>\n",
       "      <th>(30, 40]</th>\n",
       "      <td>0.090717</td>\n",
       "      <td>0.120253</td>\n",
       "      <td>0.544304</td>\n",
       "      <td>NaN</td>\n",
       "      <td>0.204641</td>\n",
       "      <td>NaN</td>\n",
       "      <td>0.035865</td>\n",
       "      <td>0.004219</td>\n",
       "    </tr>\n",
       "    <tr>\n",
       "      <th>(40, 50]</th>\n",
       "      <td>0.137450</td>\n",
       "      <td>0.073705</td>\n",
       "      <td>0.573705</td>\n",
       "      <td>NaN</td>\n",
       "      <td>0.125498</td>\n",
       "      <td>NaN</td>\n",
       "      <td>0.065737</td>\n",
       "      <td>0.023904</td>\n",
       "    </tr>\n",
       "    <tr>\n",
       "      <th>(50, 60]</th>\n",
       "      <td>0.176596</td>\n",
       "      <td>0.068085</td>\n",
       "      <td>0.546809</td>\n",
       "      <td>NaN</td>\n",
       "      <td>0.089362</td>\n",
       "      <td>0.002128</td>\n",
       "      <td>0.057447</td>\n",
       "      <td>0.059574</td>\n",
       "    </tr>\n",
       "    <tr>\n",
       "      <th>(60, 70]</th>\n",
       "      <td>0.192744</td>\n",
       "      <td>0.043084</td>\n",
       "      <td>0.480726</td>\n",
       "      <td>NaN</td>\n",
       "      <td>0.086168</td>\n",
       "      <td>NaN</td>\n",
       "      <td>0.049887</td>\n",
       "      <td>0.147392</td>\n",
       "    </tr>\n",
       "    <tr>\n",
       "      <th>(70, 80]</th>\n",
       "      <td>0.143902</td>\n",
       "      <td>0.007317</td>\n",
       "      <td>0.317073</td>\n",
       "      <td>NaN</td>\n",
       "      <td>0.051220</td>\n",
       "      <td>NaN</td>\n",
       "      <td>0.019512</td>\n",
       "      <td>0.460976</td>\n",
       "    </tr>\n",
       "  </tbody>\n",
       "</table>\n",
       "</div>"
      ],
      "text/plain": [
       "DMDMARTLx  Divorced  Living with partner   Married   Missing  Never married  \\\n",
       "agegrp2                                                                       \n",
       "(10, 20]        NaN             0.048485  0.006061  0.763636       0.181818   \n",
       "(20, 30]   0.021401             0.206226  0.305447       NaN       0.445525   \n",
       "(30, 40]   0.090717             0.120253  0.544304       NaN       0.204641   \n",
       "(40, 50]   0.137450             0.073705  0.573705       NaN       0.125498   \n",
       "(50, 60]   0.176596             0.068085  0.546809       NaN       0.089362   \n",
       "(60, 70]   0.192744             0.043084  0.480726       NaN       0.086168   \n",
       "(70, 80]   0.143902             0.007317  0.317073       NaN       0.051220   \n",
       "\n",
       "DMDMARTLx   Refused  Separated   Widowed  \n",
       "agegrp2                                   \n",
       "(10, 20]        NaN        NaN       NaN  \n",
       "(20, 30]        NaN   0.021401       NaN  \n",
       "(30, 40]        NaN   0.035865  0.004219  \n",
       "(40, 50]        NaN   0.065737  0.023904  \n",
       "(50, 60]   0.002128   0.057447  0.059574  \n",
       "(60, 70]        NaN   0.049887  0.147392  \n",
       "(70, 80]        NaN   0.019512  0.460976  "
      ]
     },
     "execution_count": 43,
     "metadata": {},
     "output_type": "execute_result"
    }
   ],
   "source": [
    "(daFemale.groupby([\"agegrp2\", \"DMDMARTLx\"]).size()/daFemale.groupby([\"agegrp2\"]).size()).unstack()"
   ]
  },
  {
   "cell_type": "code",
   "execution_count": 46,
   "metadata": {},
   "outputs": [
    {
     "name": "stderr",
     "output_type": "stream",
     "text": [
      "C:\\Users\\User\\Anaconda3\\lib\\site-packages\\ipykernel_launcher.py:1: SettingWithCopyWarning: \n",
      "A value is trying to be set on a copy of a slice from a DataFrame.\n",
      "Try using .loc[row_indexer,col_indexer] = value instead\n",
      "\n",
      "See the caveats in the documentation: http://pandas.pydata.org/pandas-docs/stable/indexing.html#indexing-view-versus-copy\n",
      "  \"\"\"Entry point for launching an IPython kernel.\n"
     ]
    },
    {
     "data": {
      "text/html": [
       "<div>\n",
       "<style scoped>\n",
       "    .dataframe tbody tr th:only-of-type {\n",
       "        vertical-align: middle;\n",
       "    }\n",
       "\n",
       "    .dataframe tbody tr th {\n",
       "        vertical-align: top;\n",
       "    }\n",
       "\n",
       "    .dataframe thead th {\n",
       "        text-align: right;\n",
       "    }\n",
       "</style>\n",
       "<table border=\"1\" class=\"dataframe\">\n",
       "  <thead>\n",
       "    <tr style=\"text-align: right;\">\n",
       "      <th>DMDMARTLx</th>\n",
       "      <th>Divorced</th>\n",
       "      <th>Living with partner</th>\n",
       "      <th>Married</th>\n",
       "      <th>Missing</th>\n",
       "      <th>Never married</th>\n",
       "      <th>Refused</th>\n",
       "      <th>Separated</th>\n",
       "      <th>Widowed</th>\n",
       "    </tr>\n",
       "    <tr>\n",
       "      <th>agegrp2</th>\n",
       "      <th></th>\n",
       "      <th></th>\n",
       "      <th></th>\n",
       "      <th></th>\n",
       "      <th></th>\n",
       "      <th></th>\n",
       "      <th></th>\n",
       "      <th></th>\n",
       "    </tr>\n",
       "  </thead>\n",
       "  <tbody>\n",
       "    <tr>\n",
       "      <th>(10, 20]</th>\n",
       "      <td>NaN</td>\n",
       "      <td>0.017143</td>\n",
       "      <td>0.005714</td>\n",
       "      <td>0.771429</td>\n",
       "      <td>0.205714</td>\n",
       "      <td>NaN</td>\n",
       "      <td>NaN</td>\n",
       "      <td>NaN</td>\n",
       "    </tr>\n",
       "    <tr>\n",
       "      <th>(20, 30]</th>\n",
       "      <td>0.004630</td>\n",
       "      <td>0.212963</td>\n",
       "      <td>0.238426</td>\n",
       "      <td>NaN</td>\n",
       "      <td>0.523148</td>\n",
       "      <td>NaN</td>\n",
       "      <td>0.016204</td>\n",
       "      <td>0.004630</td>\n",
       "    </tr>\n",
       "    <tr>\n",
       "      <th>(30, 40]</th>\n",
       "      <td>0.052402</td>\n",
       "      <td>0.157205</td>\n",
       "      <td>0.563319</td>\n",
       "      <td>NaN</td>\n",
       "      <td>0.194323</td>\n",
       "      <td>0.002183</td>\n",
       "      <td>0.026201</td>\n",
       "      <td>0.004367</td>\n",
       "    </tr>\n",
       "    <tr>\n",
       "      <th>(40, 50]</th>\n",
       "      <td>0.084788</td>\n",
       "      <td>0.082294</td>\n",
       "      <td>0.703242</td>\n",
       "      <td>NaN</td>\n",
       "      <td>0.097257</td>\n",
       "      <td>NaN</td>\n",
       "      <td>0.027431</td>\n",
       "      <td>0.004988</td>\n",
       "    </tr>\n",
       "    <tr>\n",
       "      <th>(50, 60]</th>\n",
       "      <td>0.125551</td>\n",
       "      <td>0.074890</td>\n",
       "      <td>0.651982</td>\n",
       "      <td>NaN</td>\n",
       "      <td>0.103524</td>\n",
       "      <td>NaN</td>\n",
       "      <td>0.022026</td>\n",
       "      <td>0.022026</td>\n",
       "    </tr>\n",
       "    <tr>\n",
       "      <th>(60, 70]</th>\n",
       "      <td>0.125858</td>\n",
       "      <td>0.050343</td>\n",
       "      <td>0.665904</td>\n",
       "      <td>NaN</td>\n",
       "      <td>0.086957</td>\n",
       "      <td>NaN</td>\n",
       "      <td>0.032037</td>\n",
       "      <td>0.038902</td>\n",
       "    </tr>\n",
       "    <tr>\n",
       "      <th>(70, 80]</th>\n",
       "      <td>0.141791</td>\n",
       "      <td>0.022388</td>\n",
       "      <td>0.611940</td>\n",
       "      <td>NaN</td>\n",
       "      <td>0.022388</td>\n",
       "      <td>NaN</td>\n",
       "      <td>0.034826</td>\n",
       "      <td>0.166667</td>\n",
       "    </tr>\n",
       "  </tbody>\n",
       "</table>\n",
       "</div>"
      ],
      "text/plain": [
       "DMDMARTLx  Divorced  Living with partner   Married   Missing  Never married  \\\n",
       "agegrp2                                                                       \n",
       "(10, 20]        NaN             0.017143  0.005714  0.771429       0.205714   \n",
       "(20, 30]   0.004630             0.212963  0.238426       NaN       0.523148   \n",
       "(30, 40]   0.052402             0.157205  0.563319       NaN       0.194323   \n",
       "(40, 50]   0.084788             0.082294  0.703242       NaN       0.097257   \n",
       "(50, 60]   0.125551             0.074890  0.651982       NaN       0.103524   \n",
       "(60, 70]   0.125858             0.050343  0.665904       NaN       0.086957   \n",
       "(70, 80]   0.141791             0.022388  0.611940       NaN       0.022388   \n",
       "\n",
       "DMDMARTLx   Refused  Separated   Widowed  \n",
       "agegrp2                                   \n",
       "(10, 20]        NaN        NaN       NaN  \n",
       "(20, 30]        NaN   0.016204  0.004630  \n",
       "(30, 40]   0.002183   0.026201  0.004367  \n",
       "(40, 50]        NaN   0.027431  0.004988  \n",
       "(50, 60]        NaN   0.022026  0.022026  \n",
       "(60, 70]        NaN   0.032037  0.038902  \n",
       "(70, 80]        NaN   0.034826  0.166667  "
      ]
     },
     "execution_count": 46,
     "metadata": {},
     "output_type": "execute_result"
    }
   ],
   "source": [
    "daMale[\"agegrp2\"] = pd.cut(da.RIDAGEYR, [10, 20, 30, 40, 50, 60, 70, 80])\n",
    "(daMale.groupby([\"agegrp2\", \"DMDMARTLx\"]).size()/daMale.groupby([\"agegrp2\"]).size()).unstack()"
   ]
  },
  {
   "cell_type": "code",
   "execution_count": 47,
   "metadata": {},
   "outputs": [
    {
     "data": {
      "text/plain": [
       "<matplotlib.axes._subplots.AxesSubplot at 0x15f6e5e1940>"
      ]
     },
     "execution_count": 47,
     "metadata": {},
     "output_type": "execute_result"
    },
    {
     "data": {
      "image/png": "[encoded data removed]",
      "text/plain": [
       "<Figure size 432x288 with 1 Axes>"
      ]
     },
     "metadata": {
      "needs_background": "light"
     },
     "output_type": "display_data"
    }
   ],
   "source": [
    "sns.distplot(da.BMXHT.dropna())"
   ]
  },
  {
   "cell_type": "code",
   "execution_count": 48,
   "metadata": {},
   "outputs": [
    {
     "data": {
      "text/plain": [
       "<matplotlib.axes._subplots.AxesSubplot at 0x15f6e811ac8>"
      ]
     },
     "execution_count": 48,
     "metadata": {},
     "output_type": "execute_result"
    },
    {
     "data": {
      "image/png": "[encoded data removed]",
      "text/plain": [
       "<Figure size 432x288 with 1 Axes>"
      ]
     },
     "metadata": {
      "needs_background": "light"
     },
     "output_type": "display_data"
    }
   ],
   "source": [
    "sns.distplot(da.BMXHT.dropna(), bins = 10)"
   ]
  },
  {
   "cell_type": "code",
   "execution_count": 49,
   "metadata": {},
   "outputs": [
    {
     "data": {
      "text/plain": [
       "<matplotlib.axes._subplots.AxesSubplot at 0x15f6e8544e0>"
      ]
     },
     "execution_count": 49,
     "metadata": {},
     "output_type": "execute_result"
    },
    {
     "data": {
      "image/png": "[encoded data removed]",
      "text/plain": [
       "<Figure size 432x288 with 1 Axes>"
      ]
     },
     "metadata": {
      "needs_background": "light"
     },
     "output_type": "display_data"
    }
   ],
   "source": [
    "sns.distplot(da.BMXHT.dropna(), bins = 100)"
   ]
  },
  {
   "cell_type": "code",
   "execution_count": 50,
   "metadata": {},
   "outputs": [
    {
     "data": {
      "text/plain": [
       "<matplotlib.axes._subplots.AxesSubplot at 0x15f6ea14208>"
      ]
     },
     "execution_count": 50,
     "metadata": {},
     "output_type": "execute_result"
    },
    {
     "data": {
      "image/png": "[encoded data removed]",
      "text/plain": [
       "<Figure size 432x288 with 1 Axes>"
      ]
     },
     "metadata": {
      "needs_background": "light"
     },
     "output_type": "display_data"
    }
   ],
   "source": [
    "sns.distplot(da.BMXHT.dropna(), bins = 5)"
   ]
  },
  {
   "cell_type": "code",
   "execution_count": 51,
   "metadata": {},
   "outputs": [
    {
     "data": {
      "text/plain": [
       "<matplotlib.axes._subplots.AxesSubplot at 0x15f6e7c7ef0>"
      ]
     },
     "execution_count": 51,
     "metadata": {},
     "output_type": "execute_result"
    },
    {
     "data": {
      "image/png": "[encoded data removed]",
      "text/plain": [
       "<Figure size 432x288 with 1 Axes>"
      ]
     },
     "metadata": {
      "needs_background": "light"
     },
     "output_type": "display_data"
    }
   ],
   "source": [
    "sns.distplot(da.BMXHT.dropna(), bins = 20)"
   ]
  },
  {
   "cell_type": "code",
   "execution_count": 56,
   "metadata": {},
   "outputs": [
    {
     "data": {
      "text/plain": [
       "<matplotlib.axes._subplots.AxesSubplot at 0x15f70deee48>"
      ]
     },
     "execution_count": 56,
     "metadata": {},
     "output_type": "execute_result"
    },
    {
     "data": {
      "image/png": "[encoded data removed]",
      "text/plain": [
       "<Figure size 432x288 with 1 Axes>"
      ]
     },
     "metadata": {
      "needs_background": "light"
     },
     "output_type": "display_data"
    }
   ],
   "source": [
    "sns.distplot(daFemale.BMXHT.dropna(), bins = 20)"
   ]
  },
  {
   "cell_type": "code",
   "execution_count": 57,
   "metadata": {},
   "outputs": [
    {
     "data": {
      "text/plain": [
       "<matplotlib.axes._subplots.AxesSubplot at 0x15f70dce4e0>"
      ]
     },
     "execution_count": 57,
     "metadata": {},
     "output_type": "execute_result"
    },
    {
     "data": {
      "image/png": "[encoded data removed]",
      "text/plain": [
       "<Figure size 432x288 with 1 Axes>"
      ]
     },
     "metadata": {
      "needs_background": "light"
     },
     "output_type": "display_data"
    }
   ],
   "source": [
    "sns.distplot(daMale.BMXHT.dropna(), bins=20)"
   ]
  },
  {
   "cell_type": "code",
   "execution_count": 58,
   "metadata": {},
   "outputs": [
    {
     "data": {
      "text/plain": [
       "<matplotlib.axes._subplots.AxesSubplot at 0x15f70e0bac8>"
      ]
     },
     "execution_count": 58,
     "metadata": {},
     "output_type": "execute_result"
    },
    {
     "data": {
      "image/png": "[encoded data removed]",
      "text/plain": [
       "<Figure size 432x288 with 1 Axes>"
      ]
     },
     "metadata": {
      "needs_background": "light"
     },
     "output_type": "display_data"
    }
   ],
   "source": [
    "sns.boxplot(x=\"RIAGENDRx\", y = \"BMXHT\", data=da)"
   ]
  },
  {
   "cell_type": "code",
   "execution_count": 60,
   "metadata": {},
   "outputs": [
    {
     "data": {
      "text/plain": [
       "<matplotlib.axes._subplots.AxesSubplot at 0x15f71f79470>"
      ]
     },
     "execution_count": 60,
     "metadata": {},
     "output_type": "execute_result"
    },
    {
     "data": {
      "image/png": "[encoded data removed]",
      "text/plain": [
       "<Figure size 432x288 with 1 Axes>"
      ]
     },
     "metadata": {
      "needs_background": "light"
     },
     "output_type": "display_data"
    }
   ],
   "source": [
    "sns.distplot(np.log(da.BMXHT).dropna(), bins = 20)"
   ]
  },
  {
   "cell_type": "markdown",
   "metadata": {},
   "source": [
    "Question4"
   ]
  },
  {
   "cell_type": "code",
   "execution_count": 62,
   "metadata": {},
   "outputs": [
    {
     "data": {
      "image/png": "[encoded data removed]",
      "text/plain": [
       "<Figure size 432x288 with 1 Axes>"
      ]
     },
     "metadata": {
      "needs_background": "light"
     },
     "output_type": "display_data"
    }
   ],
   "source": [
    "bp = sns.boxplot(data=da.loc[:, [\"BPXSY1\", \"BPXSY2\"]])\n",
    "_ = bp.set_ylabel(\"Blood pressure in mm/hg\")"
   ]
  },
  {
   "cell_type": "code",
   "execution_count": 63,
   "metadata": {},
   "outputs": [
    {
     "data": {
      "text/plain": [
       "0.42946817785527464"
      ]
     },
     "execution_count": 63,
     "metadata": {},
     "output_type": "execute_result"
    }
   ],
   "source": [
    "num = 0\n",
    "for i in (da[\"BPXSY2\"]-da[\"BPXSY1\"]):\n",
    "    if i < 0 :\n",
    "        num += 1\n",
    "num/len(da)"
   ]
  },
  {
   "cell_type": "code",
   "execution_count": 64,
   "metadata": {},
   "outputs": [
    {
     "data": {
      "text/plain": [
       "0.42946817785527464"
      ]
     },
     "execution_count": 64,
     "metadata": {},
     "output_type": "execute_result"
    }
   ],
   "source": [
    "len(da[da[\"BPXSY2\"]-da[\"BPXSY1\"] < 0])/len(da)"
   ]
  },
  {
   "cell_type": "markdown",
   "metadata": {},
   "source": [
    "Question5"
   ]
  },
  {
   "cell_type": "code",
   "execution_count": null,
   "metadata": {},
   "outputs": [],
   "source": [
    "dx = da.groupby([\"DMDMARTLx\"])[\"RIAGENDRx\"].value_counts().unstack()\n",
    "dx = dx.apply(lambda x: x/x.sum(), axis=0)\n",
    "print(dx.to_string(float_format=\"%.4f\"))"
   ]
  },
  {
   "cell_type": "code",
   "execution_count": 73,
   "metadata": {},
   "outputs": [
    {
     "name": "stdout",
     "output_type": "stream",
     "text": [
      "DMDHHSIZ    1    2    3    4    5    6    7\n",
      "DMDEDUC2                                   \n",
      "1.0      0.11 0.22 0.15 0.13 0.15 0.11 0.13\n",
      "2.0      0.12 0.22 0.16 0.15 0.15 0.11 0.09\n",
      "3.0      0.15 0.27 0.17 0.16 0.11 0.07 0.07\n",
      "4.0      0.15 0.27 0.19 0.17 0.12 0.05 0.05\n",
      "5.0      0.14 0.35 0.19 0.17 0.10 0.03 0.03\n",
      "9.0       NaN 0.67  NaN  NaN 0.33  NaN  NaN\n"
     ]
    }
   ],
   "source": [
    "dx = da.groupby([\"DMDEDUC2\"])[\"DMDHHSIZ\"].value_counts().unstack()\n",
    "dx =dx.apply(lambda x: x/x.sum(), axis=1)\n",
    "print(dx.to_string(float_format=\"%.2f\"))"
   ]
  },
  {
   "cell_type": "code",
   "execution_count": 70,
   "metadata": {},
   "outputs": [],
   "source": [
    "daRes = da[(da[\"RIDAGEYR\"]>=30) & (da[\"RIDAGEYR\"]<=40)]#RIAGENDR"
   ]
  },
  {
   "cell_type": "code",
   "execution_count": 75,
   "metadata": {},
   "outputs": [
    {
     "data": {
      "text/html": [
       "<div>\n",
       "<style scoped>\n",
       "    .dataframe tbody tr th:only-of-type {\n",
       "        vertical-align: middle;\n",
       "    }\n",
       "\n",
       "    .dataframe tbody tr th {\n",
       "        vertical-align: top;\n",
       "    }\n",
       "\n",
       "    .dataframe thead th {\n",
       "        text-align: right;\n",
       "    }\n",
       "</style>\n",
       "<table border=\"1\" class=\"dataframe\">\n",
       "  <thead>\n",
       "    <tr style=\"text-align: right;\">\n",
       "      <th>RIAGENDRx</th>\n",
       "      <th>Female</th>\n",
       "      <th>Male</th>\n",
       "    </tr>\n",
       "    <tr>\n",
       "      <th>DMDEDUC2</th>\n",
       "      <th></th>\n",
       "      <th></th>\n",
       "    </tr>\n",
       "  </thead>\n",
       "  <tbody>\n",
       "    <tr>\n",
       "      <th>1.0</th>\n",
       "      <td>5.0</td>\n",
       "      <td>5.0</td>\n",
       "    </tr>\n",
       "    <tr>\n",
       "      <th>2.0</th>\n",
       "      <td>5.0</td>\n",
       "      <td>4.5</td>\n",
       "    </tr>\n",
       "    <tr>\n",
       "      <th>3.0</th>\n",
       "      <td>5.0</td>\n",
       "      <td>4.0</td>\n",
       "    </tr>\n",
       "    <tr>\n",
       "      <th>4.0</th>\n",
       "      <td>4.0</td>\n",
       "      <td>4.0</td>\n",
       "    </tr>\n",
       "    <tr>\n",
       "      <th>5.0</th>\n",
       "      <td>3.0</td>\n",
       "      <td>3.0</td>\n",
       "    </tr>\n",
       "  </tbody>\n",
       "</table>\n",
       "</div>"
      ],
      "text/plain": [
       "RIAGENDRx  Female  Male\n",
       "DMDEDUC2               \n",
       "1.0           5.0   5.0\n",
       "2.0           5.0   4.5\n",
       "3.0           5.0   4.0\n",
       "4.0           4.0   4.0\n",
       "5.0           3.0   3.0"
      ]
     },
     "execution_count": 75,
     "metadata": {},
     "output_type": "execute_result"
    }
   ],
   "source": [
    "daRes.groupby([\"DMDEDUC2\", \"RIAGENDRx\"])[\"DMDHHSIZ\"].median().unstack()"
   ]
  },
  {
   "cell_type": "code",
   "execution_count": 76,
   "metadata": {},
   "outputs": [
    {
     "data": {
      "text/plain": [
       "DMDEDUC2  RIAGENDRx\n",
       "1.0       Female       5.0\n",
       "          Male         5.0\n",
       "2.0       Female       5.0\n",
       "          Male         4.5\n",
       "3.0       Female       5.0\n",
       "          Male         4.0\n",
       "4.0       Female       4.0\n",
       "          Male         4.0\n",
       "5.0       Female       3.0\n",
       "          Male         3.0\n",
       "Name: DMDHHSIZ, dtype: float64"
      ]
     },
     "execution_count": 76,
     "metadata": {},
     "output_type": "execute_result"
    }
   ],
   "source": [
    "daRes.groupby([\"DMDEDUC2\", \"RIAGENDRx\"])[\"DMDHHSIZ\"].median()"
   ]
  },
  {
   "cell_type": "code",
   "execution_count": 78,
   "metadata": {},
   "outputs": [
    {
     "data": {
      "text/html": [
       "<div>\n",
       "<style scoped>\n",
       "    .dataframe tbody tr th:only-of-type {\n",
       "        vertical-align: middle;\n",
       "    }\n",
       "\n",
       "    .dataframe tbody tr th {\n",
       "        vertical-align: top;\n",
       "    }\n",
       "\n",
       "    .dataframe thead tr th {\n",
       "        text-align: left;\n",
       "    }\n",
       "\n",
       "    .dataframe thead tr:last-of-type th {\n",
       "        text-align: right;\n",
       "    }\n",
       "</style>\n",
       "<table border=\"1\" class=\"dataframe\">\n",
       "  <thead>\n",
       "    <tr>\n",
       "      <th></th>\n",
       "      <th></th>\n",
       "      <th colspan=\"2\" halign=\"left\">RIDAGEYR</th>\n",
       "      <th colspan=\"2\" halign=\"left\">BMXHT</th>\n",
       "      <th colspan=\"2\" halign=\"left\">BMXBMI</th>\n",
       "    </tr>\n",
       "    <tr>\n",
       "      <th></th>\n",
       "      <th>RIAGENDR</th>\n",
       "      <th>1</th>\n",
       "      <th>2</th>\n",
       "      <th>1</th>\n",
       "      <th>2</th>\n",
       "      <th>1</th>\n",
       "      <th>2</th>\n",
       "    </tr>\n",
       "    <tr>\n",
       "      <th>SDMVSTRA</th>\n",
       "      <th>SDMVPSU</th>\n",
       "      <th></th>\n",
       "      <th></th>\n",
       "      <th></th>\n",
       "      <th></th>\n",
       "      <th></th>\n",
       "      <th></th>\n",
       "    </tr>\n",
       "  </thead>\n",
       "  <tbody>\n",
       "    <tr>\n",
       "      <th rowspan=\"2\" valign=\"top\">119</th>\n",
       "      <th>1</th>\n",
       "      <td>47.861111</td>\n",
       "      <td>47.663265</td>\n",
       "      <td>172.741667</td>\n",
       "      <td>159.570408</td>\n",
       "      <td>26.958333</td>\n",
       "      <td>30.052041</td>\n",
       "    </tr>\n",
       "    <tr>\n",
       "      <th>2</th>\n",
       "      <td>54.363636</td>\n",
       "      <td>52.987952</td>\n",
       "      <td>172.906818</td>\n",
       "      <td>159.244578</td>\n",
       "      <td>27.160465</td>\n",
       "      <td>27.849398</td>\n",
       "    </tr>\n",
       "    <tr>\n",
       "      <th rowspan=\"2\" valign=\"top\">120</th>\n",
       "      <th>1</th>\n",
       "      <td>43.130000</td>\n",
       "      <td>43.636364</td>\n",
       "      <td>169.537755</td>\n",
       "      <td>155.402041</td>\n",
       "      <td>30.939175</td>\n",
       "      <td>32.419388</td>\n",
       "    </tr>\n",
       "    <tr>\n",
       "      <th>2</th>\n",
       "      <td>45.219178</td>\n",
       "      <td>43.736111</td>\n",
       "      <td>173.075342</td>\n",
       "      <td>159.218056</td>\n",
       "      <td>27.727397</td>\n",
       "      <td>27.400000</td>\n",
       "    </tr>\n",
       "    <tr>\n",
       "      <th rowspan=\"2\" valign=\"top\">121</th>\n",
       "      <th>1</th>\n",
       "      <td>46.750000</td>\n",
       "      <td>44.397959</td>\n",
       "      <td>172.177885</td>\n",
       "      <td>158.871579</td>\n",
       "      <td>29.416505</td>\n",
       "      <td>30.856842</td>\n",
       "    </tr>\n",
       "    <tr>\n",
       "      <th>2</th>\n",
       "      <td>42.063158</td>\n",
       "      <td>44.376344</td>\n",
       "      <td>174.764516</td>\n",
       "      <td>160.229032</td>\n",
       "      <td>26.273118</td>\n",
       "      <td>26.470968</td>\n",
       "    </tr>\n",
       "    <tr>\n",
       "      <th rowspan=\"2\" valign=\"top\">122</th>\n",
       "      <th>1</th>\n",
       "      <td>44.653061</td>\n",
       "      <td>42.897436</td>\n",
       "      <td>173.998969</td>\n",
       "      <td>161.315385</td>\n",
       "      <td>28.528866</td>\n",
       "      <td>29.447436</td>\n",
       "    </tr>\n",
       "    <tr>\n",
       "      <th>2</th>\n",
       "      <td>44.320000</td>\n",
       "      <td>47.333333</td>\n",
       "      <td>170.332323</td>\n",
       "      <td>157.231111</td>\n",
       "      <td>25.744444</td>\n",
       "      <td>26.611111</td>\n",
       "    </tr>\n",
       "    <tr>\n",
       "      <th rowspan=\"2\" valign=\"top\">123</th>\n",
       "      <th>1</th>\n",
       "      <td>47.829787</td>\n",
       "      <td>44.841121</td>\n",
       "      <td>174.315217</td>\n",
       "      <td>162.059615</td>\n",
       "      <td>29.231522</td>\n",
       "      <td>29.905769</td>\n",
       "    </tr>\n",
       "    <tr>\n",
       "      <th>2</th>\n",
       "      <td>52.126582</td>\n",
       "      <td>46.457447</td>\n",
       "      <td>174.454430</td>\n",
       "      <td>160.476596</td>\n",
       "      <td>28.811392</td>\n",
       "      <td>30.641489</td>\n",
       "    </tr>\n",
       "    <tr>\n",
       "      <th rowspan=\"2\" valign=\"top\">124</th>\n",
       "      <th>1</th>\n",
       "      <td>50.750000</td>\n",
       "      <td>51.664000</td>\n",
       "      <td>172.109009</td>\n",
       "      <td>158.788710</td>\n",
       "      <td>28.614414</td>\n",
       "      <td>29.533065</td>\n",
       "    </tr>\n",
       "    <tr>\n",
       "      <th>2</th>\n",
       "      <td>48.245614</td>\n",
       "      <td>42.541667</td>\n",
       "      <td>174.291228</td>\n",
       "      <td>162.853521</td>\n",
       "      <td>27.714035</td>\n",
       "      <td>28.640845</td>\n",
       "    </tr>\n",
       "    <tr>\n",
       "      <th rowspan=\"2\" valign=\"top\">125</th>\n",
       "      <th>1</th>\n",
       "      <td>55.165289</td>\n",
       "      <td>50.900901</td>\n",
       "      <td>173.631092</td>\n",
       "      <td>160.762385</td>\n",
       "      <td>29.727731</td>\n",
       "      <td>30.385321</td>\n",
       "    </tr>\n",
       "    <tr>\n",
       "      <th>2</th>\n",
       "      <td>49.705882</td>\n",
       "      <td>51.660000</td>\n",
       "      <td>174.456863</td>\n",
       "      <td>160.021429</td>\n",
       "      <td>29.143564</td>\n",
       "      <td>28.564286</td>\n",
       "    </tr>\n",
       "    <tr>\n",
       "      <th rowspan=\"2\" valign=\"top\">126</th>\n",
       "      <th>1</th>\n",
       "      <td>48.416667</td>\n",
       "      <td>46.229167</td>\n",
       "      <td>175.149398</td>\n",
       "      <td>160.387500</td>\n",
       "      <td>29.033333</td>\n",
       "      <td>31.262500</td>\n",
       "    </tr>\n",
       "    <tr>\n",
       "      <th>2</th>\n",
       "      <td>48.666667</td>\n",
       "      <td>47.205882</td>\n",
       "      <td>174.713043</td>\n",
       "      <td>160.892000</td>\n",
       "      <td>29.039130</td>\n",
       "      <td>29.612121</td>\n",
       "    </tr>\n",
       "    <tr>\n",
       "      <th rowspan=\"2\" valign=\"top\">127</th>\n",
       "      <th>1</th>\n",
       "      <td>53.137931</td>\n",
       "      <td>49.694444</td>\n",
       "      <td>171.545349</td>\n",
       "      <td>157.422430</td>\n",
       "      <td>31.062353</td>\n",
       "      <td>32.189720</td>\n",
       "    </tr>\n",
       "    <tr>\n",
       "      <th>2</th>\n",
       "      <td>54.070588</td>\n",
       "      <td>51.486239</td>\n",
       "      <td>173.366667</td>\n",
       "      <td>159.022936</td>\n",
       "      <td>30.557831</td>\n",
       "      <td>30.770642</td>\n",
       "    </tr>\n",
       "    <tr>\n",
       "      <th rowspan=\"2\" valign=\"top\">128</th>\n",
       "      <th>1</th>\n",
       "      <td>53.673267</td>\n",
       "      <td>55.638462</td>\n",
       "      <td>169.325000</td>\n",
       "      <td>156.339062</td>\n",
       "      <td>31.749000</td>\n",
       "      <td>32.303125</td>\n",
       "    </tr>\n",
       "    <tr>\n",
       "      <th>2</th>\n",
       "      <td>45.822785</td>\n",
       "      <td>45.589744</td>\n",
       "      <td>172.400000</td>\n",
       "      <td>160.437179</td>\n",
       "      <td>26.835443</td>\n",
       "      <td>27.491026</td>\n",
       "    </tr>\n",
       "    <tr>\n",
       "      <th rowspan=\"2\" valign=\"top\">129</th>\n",
       "      <th>1</th>\n",
       "      <td>43.922222</td>\n",
       "      <td>45.329787</td>\n",
       "      <td>171.094318</td>\n",
       "      <td>156.900000</td>\n",
       "      <td>26.493182</td>\n",
       "      <td>29.019149</td>\n",
       "    </tr>\n",
       "    <tr>\n",
       "      <th>2</th>\n",
       "      <td>45.775510</td>\n",
       "      <td>43.500000</td>\n",
       "      <td>173.138298</td>\n",
       "      <td>161.034259</td>\n",
       "      <td>28.961702</td>\n",
       "      <td>29.429630</td>\n",
       "    </tr>\n",
       "    <tr>\n",
       "      <th rowspan=\"2\" valign=\"top\">130</th>\n",
       "      <th>1</th>\n",
       "      <td>50.516854</td>\n",
       "      <td>47.810526</td>\n",
       "      <td>176.974157</td>\n",
       "      <td>161.977895</td>\n",
       "      <td>30.337079</td>\n",
       "      <td>30.700000</td>\n",
       "    </tr>\n",
       "    <tr>\n",
       "      <th>2</th>\n",
       "      <td>50.535354</td>\n",
       "      <td>50.833333</td>\n",
       "      <td>175.061224</td>\n",
       "      <td>160.060577</td>\n",
       "      <td>29.237755</td>\n",
       "      <td>31.490385</td>\n",
       "    </tr>\n",
       "    <tr>\n",
       "      <th rowspan=\"2\" valign=\"top\">131</th>\n",
       "      <th>1</th>\n",
       "      <td>53.140187</td>\n",
       "      <td>54.893617</td>\n",
       "      <td>175.610476</td>\n",
       "      <td>161.989362</td>\n",
       "      <td>28.259615</td>\n",
       "      <td>30.061702</td>\n",
       "    </tr>\n",
       "    <tr>\n",
       "      <th>2</th>\n",
       "      <td>46.778846</td>\n",
       "      <td>45.000000</td>\n",
       "      <td>175.091346</td>\n",
       "      <td>161.673810</td>\n",
       "      <td>30.077885</td>\n",
       "      <td>32.984127</td>\n",
       "    </tr>\n",
       "    <tr>\n",
       "      <th rowspan=\"2\" valign=\"top\">132</th>\n",
       "      <th>1</th>\n",
       "      <td>42.380435</td>\n",
       "      <td>43.210526</td>\n",
       "      <td>172.534066</td>\n",
       "      <td>161.508421</td>\n",
       "      <td>28.546154</td>\n",
       "      <td>29.848421</td>\n",
       "    </tr>\n",
       "    <tr>\n",
       "      <th>2</th>\n",
       "      <td>49.038760</td>\n",
       "      <td>51.700000</td>\n",
       "      <td>172.809524</td>\n",
       "      <td>159.138281</td>\n",
       "      <td>28.966667</td>\n",
       "      <td>30.540625</td>\n",
       "    </tr>\n",
       "    <tr>\n",
       "      <th rowspan=\"2\" valign=\"top\">133</th>\n",
       "      <th>1</th>\n",
       "      <td>44.054795</td>\n",
       "      <td>45.105882</td>\n",
       "      <td>171.509722</td>\n",
       "      <td>158.295122</td>\n",
       "      <td>27.495833</td>\n",
       "      <td>27.959259</td>\n",
       "    </tr>\n",
       "    <tr>\n",
       "      <th>2</th>\n",
       "      <td>47.489796</td>\n",
       "      <td>47.063158</td>\n",
       "      <td>171.179167</td>\n",
       "      <td>158.627368</td>\n",
       "      <td>27.966667</td>\n",
       "      <td>29.000000</td>\n",
       "    </tr>\n",
       "  </tbody>\n",
       "</table>\n",
       "</div>"
      ],
      "text/plain": [
       "                   RIDAGEYR                  BMXHT                 BMXBMI  \\\n",
       "RIAGENDR                  1          2           1           2          1   \n",
       "SDMVSTRA SDMVPSU                                                            \n",
       "119      1        47.861111  47.663265  172.741667  159.570408  26.958333   \n",
       "         2        54.363636  52.987952  172.906818  159.244578  27.160465   \n",
       "120      1        43.130000  43.636364  169.537755  155.402041  30.939175   \n",
       "         2        45.219178  43.736111  173.075342  159.218056  27.727397   \n",
       "121      1        46.750000  44.397959  172.177885  158.871579  29.416505   \n",
       "         2        42.063158  44.376344  174.764516  160.229032  26.273118   \n",
       "122      1        44.653061  42.897436  173.998969  161.315385  28.528866   \n",
       "         2        44.320000  47.333333  170.332323  157.231111  25.744444   \n",
       "123      1        47.829787  44.841121  174.315217  162.059615  29.231522   \n",
       "         2        52.126582  46.457447  174.454430  160.476596  28.811392   \n",
       "124      1        50.750000  51.664000  172.109009  158.788710  28.614414   \n",
       "         2        48.245614  42.541667  174.291228  162.853521  27.714035   \n",
       "125      1        55.165289  50.900901  173.631092  160.762385  29.727731   \n",
       "         2        49.705882  51.660000  174.456863  160.021429  29.143564   \n",
       "126      1        48.416667  46.229167  175.149398  160.387500  29.033333   \n",
       "         2        48.666667  47.205882  174.713043  160.892000  29.039130   \n",
       "127      1        53.137931  49.694444  171.545349  157.422430  31.062353   \n",
       "         2        54.070588  51.486239  173.366667  159.022936  30.557831   \n",
       "128      1        53.673267  55.638462  169.325000  156.339062  31.749000   \n",
       "         2        45.822785  45.589744  172.400000  160.437179  26.835443   \n",
       "129      1        43.922222  45.329787  171.094318  156.900000  26.493182   \n",
       "         2        45.775510  43.500000  173.138298  161.034259  28.961702   \n",
       "130      1        50.516854  47.810526  176.974157  161.977895  30.337079   \n",
       "         2        50.535354  50.833333  175.061224  160.060577  29.237755   \n",
       "131      1        53.140187  54.893617  175.610476  161.989362  28.259615   \n",
       "         2        46.778846  45.000000  175.091346  161.673810  30.077885   \n",
       "132      1        42.380435  43.210526  172.534066  161.508421  28.546154   \n",
       "         2        49.038760  51.700000  172.809524  159.138281  28.966667   \n",
       "133      1        44.054795  45.105882  171.509722  158.295122  27.495833   \n",
       "         2        47.489796  47.063158  171.179167  158.627368  27.966667   \n",
       "\n",
       "                             \n",
       "RIAGENDR                  2  \n",
       "SDMVSTRA SDMVPSU             \n",
       "119      1        30.052041  \n",
       "         2        27.849398  \n",
       "120      1        32.419388  \n",
       "         2        27.400000  \n",
       "121      1        30.856842  \n",
       "         2        26.470968  \n",
       "122      1        29.447436  \n",
       "         2        26.611111  \n",
       "123      1        29.905769  \n",
       "         2        30.641489  \n",
       "124      1        29.533065  \n",
       "         2        28.640845  \n",
       "125      1        30.385321  \n",
       "         2        28.564286  \n",
       "126      1        31.262500  \n",
       "         2        29.612121  \n",
       "127      1        32.189720  \n",
       "         2        30.770642  \n",
       "128      1        32.303125  \n",
       "         2        27.491026  \n",
       "129      1        29.019149  \n",
       "         2        29.429630  \n",
       "130      1        30.700000  \n",
       "         2        31.490385  \n",
       "131      1        30.061702  \n",
       "         2        32.984127  \n",
       "132      1        29.848421  \n",
       "         2        30.540625  \n",
       "133      1        27.959259  \n",
       "         2        29.000000  "
      ]
     },
     "execution_count": 78,
     "metadata": {},
     "output_type": "execute_result"
    }
   ],
   "source": [
    "(da.groupby([\"SDMVSTRA\", \"SDMVPSU\", \"RIAGENDR\"])[[\"RIDAGEYR\", \"BMXHT\", \"BMXBMI\"]].mean()).unstack()"
   ]
  },
  {
   "cell_type": "code",
   "execution_count": 84,
   "metadata": {},
   "outputs": [
    {
     "data": {
      "text/html": [
       "<div>\n",
       "<style scoped>\n",
       "    .dataframe tbody tr th:only-of-type {\n",
       "        vertical-align: middle;\n",
       "    }\n",
       "\n",
       "    .dataframe tbody tr th {\n",
       "        vertical-align: top;\n",
       "    }\n",
       "\n",
       "    .dataframe thead tr th {\n",
       "        text-align: left;\n",
       "    }\n",
       "\n",
       "    .dataframe thead tr:last-of-type th {\n",
       "        text-align: right;\n",
       "    }\n",
       "</style>\n",
       "<table border=\"1\" class=\"dataframe\">\n",
       "  <thead>\n",
       "    <tr>\n",
       "      <th></th>\n",
       "      <th>0.75</th>\n",
       "      <th colspan=\"2\" halign=\"left\">RIDAGEYR</th>\n",
       "      <th colspan=\"2\" halign=\"left\">BMXHT</th>\n",
       "      <th colspan=\"2\" halign=\"left\">BMXBMI</th>\n",
       "    </tr>\n",
       "    <tr>\n",
       "      <th></th>\n",
       "      <th>RIAGENDR</th>\n",
       "      <th>1</th>\n",
       "      <th>2</th>\n",
       "      <th>1</th>\n",
       "      <th>2</th>\n",
       "      <th>1</th>\n",
       "      <th>2</th>\n",
       "    </tr>\n",
       "    <tr>\n",
       "      <th>SDMVSTRA</th>\n",
       "      <th>SDMVPSU</th>\n",
       "      <th></th>\n",
       "      <th></th>\n",
       "      <th></th>\n",
       "      <th></th>\n",
       "      <th></th>\n",
       "      <th></th>\n",
       "    </tr>\n",
       "  </thead>\n",
       "  <tbody>\n",
       "    <tr>\n",
       "      <th rowspan=\"2\" valign=\"top\">119</th>\n",
       "      <th>1</th>\n",
       "      <td>62.25</td>\n",
       "      <td>62.75</td>\n",
       "      <td>177.825</td>\n",
       "      <td>163.900</td>\n",
       "      <td>28.500</td>\n",
       "      <td>33.675</td>\n",
       "    </tr>\n",
       "    <tr>\n",
       "      <th>2</th>\n",
       "      <td>69.00</td>\n",
       "      <td>69.00</td>\n",
       "      <td>178.225</td>\n",
       "      <td>164.300</td>\n",
       "      <td>29.400</td>\n",
       "      <td>31.850</td>\n",
       "    </tr>\n",
       "    <tr>\n",
       "      <th rowspan=\"2\" valign=\"top\">120</th>\n",
       "      <th>1</th>\n",
       "      <td>55.50</td>\n",
       "      <td>57.00</td>\n",
       "      <td>175.800</td>\n",
       "      <td>159.800</td>\n",
       "      <td>35.100</td>\n",
       "      <td>36.900</td>\n",
       "    </tr>\n",
       "    <tr>\n",
       "      <th>2</th>\n",
       "      <td>59.00</td>\n",
       "      <td>54.25</td>\n",
       "      <td>178.900</td>\n",
       "      <td>164.400</td>\n",
       "      <td>30.600</td>\n",
       "      <td>30.850</td>\n",
       "    </tr>\n",
       "    <tr>\n",
       "      <th rowspan=\"2\" valign=\"top\">121</th>\n",
       "      <th>1</th>\n",
       "      <td>63.00</td>\n",
       "      <td>57.50</td>\n",
       "      <td>177.700</td>\n",
       "      <td>163.650</td>\n",
       "      <td>33.000</td>\n",
       "      <td>34.600</td>\n",
       "    </tr>\n",
       "    <tr>\n",
       "      <th>2</th>\n",
       "      <td>53.50</td>\n",
       "      <td>56.00</td>\n",
       "      <td>179.300</td>\n",
       "      <td>164.800</td>\n",
       "      <td>28.100</td>\n",
       "      <td>29.600</td>\n",
       "    </tr>\n",
       "    <tr>\n",
       "      <th rowspan=\"2\" valign=\"top\">122</th>\n",
       "      <th>1</th>\n",
       "      <td>58.75</td>\n",
       "      <td>55.00</td>\n",
       "      <td>178.600</td>\n",
       "      <td>166.925</td>\n",
       "      <td>31.500</td>\n",
       "      <td>33.575</td>\n",
       "    </tr>\n",
       "    <tr>\n",
       "      <th>2</th>\n",
       "      <td>58.00</td>\n",
       "      <td>60.00</td>\n",
       "      <td>175.200</td>\n",
       "      <td>161.075</td>\n",
       "      <td>27.600</td>\n",
       "      <td>30.900</td>\n",
       "    </tr>\n",
       "    <tr>\n",
       "      <th rowspan=\"2\" valign=\"top\">123</th>\n",
       "      <th>1</th>\n",
       "      <td>61.00</td>\n",
       "      <td>60.00</td>\n",
       "      <td>179.025</td>\n",
       "      <td>167.200</td>\n",
       "      <td>32.625</td>\n",
       "      <td>34.425</td>\n",
       "    </tr>\n",
       "    <tr>\n",
       "      <th>2</th>\n",
       "      <td>67.00</td>\n",
       "      <td>62.75</td>\n",
       "      <td>178.400</td>\n",
       "      <td>165.800</td>\n",
       "      <td>32.750</td>\n",
       "      <td>34.775</td>\n",
       "    </tr>\n",
       "    <tr>\n",
       "      <th rowspan=\"2\" valign=\"top\">124</th>\n",
       "      <th>1</th>\n",
       "      <td>65.00</td>\n",
       "      <td>64.00</td>\n",
       "      <td>176.700</td>\n",
       "      <td>163.325</td>\n",
       "      <td>31.350</td>\n",
       "      <td>33.250</td>\n",
       "    </tr>\n",
       "    <tr>\n",
       "      <th>2</th>\n",
       "      <td>65.00</td>\n",
       "      <td>52.50</td>\n",
       "      <td>179.600</td>\n",
       "      <td>167.650</td>\n",
       "      <td>31.700</td>\n",
       "      <td>31.600</td>\n",
       "    </tr>\n",
       "    <tr>\n",
       "      <th rowspan=\"2\" valign=\"top\">125</th>\n",
       "      <th>1</th>\n",
       "      <td>70.00</td>\n",
       "      <td>65.00</td>\n",
       "      <td>178.900</td>\n",
       "      <td>165.400</td>\n",
       "      <td>33.500</td>\n",
       "      <td>33.700</td>\n",
       "    </tr>\n",
       "    <tr>\n",
       "      <th>2</th>\n",
       "      <td>65.75</td>\n",
       "      <td>67.00</td>\n",
       "      <td>178.825</td>\n",
       "      <td>165.200</td>\n",
       "      <td>33.300</td>\n",
       "      <td>33.650</td>\n",
       "    </tr>\n",
       "    <tr>\n",
       "      <th rowspan=\"2\" valign=\"top\">126</th>\n",
       "      <th>1</th>\n",
       "      <td>66.25</td>\n",
       "      <td>61.00</td>\n",
       "      <td>180.700</td>\n",
       "      <td>164.500</td>\n",
       "      <td>32.700</td>\n",
       "      <td>36.400</td>\n",
       "    </tr>\n",
       "    <tr>\n",
       "      <th>2</th>\n",
       "      <td>66.00</td>\n",
       "      <td>62.75</td>\n",
       "      <td>179.000</td>\n",
       "      <td>167.300</td>\n",
       "      <td>31.700</td>\n",
       "      <td>34.300</td>\n",
       "    </tr>\n",
       "    <tr>\n",
       "      <th rowspan=\"2\" valign=\"top\">127</th>\n",
       "      <th>1</th>\n",
       "      <td>68.00</td>\n",
       "      <td>63.00</td>\n",
       "      <td>176.675</td>\n",
       "      <td>160.850</td>\n",
       "      <td>34.700</td>\n",
       "      <td>37.650</td>\n",
       "    </tr>\n",
       "    <tr>\n",
       "      <th>2</th>\n",
       "      <td>68.00</td>\n",
       "      <td>65.00</td>\n",
       "      <td>179.100</td>\n",
       "      <td>164.700</td>\n",
       "      <td>33.350</td>\n",
       "      <td>34.500</td>\n",
       "    </tr>\n",
       "    <tr>\n",
       "      <th rowspan=\"2\" valign=\"top\">128</th>\n",
       "      <th>1</th>\n",
       "      <td>69.00</td>\n",
       "      <td>70.00</td>\n",
       "      <td>174.450</td>\n",
       "      <td>160.725</td>\n",
       "      <td>34.450</td>\n",
       "      <td>35.975</td>\n",
       "    </tr>\n",
       "    <tr>\n",
       "      <th>2</th>\n",
       "      <td>57.00</td>\n",
       "      <td>55.00</td>\n",
       "      <td>177.250</td>\n",
       "      <td>165.625</td>\n",
       "      <td>29.350</td>\n",
       "      <td>31.625</td>\n",
       "    </tr>\n",
       "    <tr>\n",
       "      <th rowspan=\"2\" valign=\"top\">129</th>\n",
       "      <th>1</th>\n",
       "      <td>53.75</td>\n",
       "      <td>57.00</td>\n",
       "      <td>177.400</td>\n",
       "      <td>162.600</td>\n",
       "      <td>29.125</td>\n",
       "      <td>33.050</td>\n",
       "    </tr>\n",
       "    <tr>\n",
       "      <th>2</th>\n",
       "      <td>60.00</td>\n",
       "      <td>56.25</td>\n",
       "      <td>178.400</td>\n",
       "      <td>165.625</td>\n",
       "      <td>31.300</td>\n",
       "      <td>33.000</td>\n",
       "    </tr>\n",
       "    <tr>\n",
       "      <th rowspan=\"2\" valign=\"top\">130</th>\n",
       "      <th>1</th>\n",
       "      <td>69.00</td>\n",
       "      <td>65.00</td>\n",
       "      <td>182.100</td>\n",
       "      <td>166.850</td>\n",
       "      <td>33.100</td>\n",
       "      <td>35.800</td>\n",
       "    </tr>\n",
       "    <tr>\n",
       "      <th>2</th>\n",
       "      <td>64.50</td>\n",
       "      <td>65.25</td>\n",
       "      <td>179.300</td>\n",
       "      <td>165.725</td>\n",
       "      <td>32.700</td>\n",
       "      <td>34.700</td>\n",
       "    </tr>\n",
       "    <tr>\n",
       "      <th rowspan=\"2\" valign=\"top\">131</th>\n",
       "      <th>1</th>\n",
       "      <td>72.50</td>\n",
       "      <td>77.00</td>\n",
       "      <td>180.400</td>\n",
       "      <td>167.175</td>\n",
       "      <td>31.825</td>\n",
       "      <td>35.300</td>\n",
       "    </tr>\n",
       "    <tr>\n",
       "      <th>2</th>\n",
       "      <td>60.00</td>\n",
       "      <td>55.00</td>\n",
       "      <td>178.725</td>\n",
       "      <td>165.475</td>\n",
       "      <td>33.425</td>\n",
       "      <td>37.475</td>\n",
       "    </tr>\n",
       "    <tr>\n",
       "      <th rowspan=\"2\" valign=\"top\">132</th>\n",
       "      <th>1</th>\n",
       "      <td>52.25</td>\n",
       "      <td>58.00</td>\n",
       "      <td>178.200</td>\n",
       "      <td>166.950</td>\n",
       "      <td>31.200</td>\n",
       "      <td>34.700</td>\n",
       "    </tr>\n",
       "    <tr>\n",
       "      <th>2</th>\n",
       "      <td>69.00</td>\n",
       "      <td>69.00</td>\n",
       "      <td>178.475</td>\n",
       "      <td>164.300</td>\n",
       "      <td>33.425</td>\n",
       "      <td>35.325</td>\n",
       "    </tr>\n",
       "    <tr>\n",
       "      <th rowspan=\"2\" valign=\"top\">133</th>\n",
       "      <th>1</th>\n",
       "      <td>59.00</td>\n",
       "      <td>61.00</td>\n",
       "      <td>176.000</td>\n",
       "      <td>162.625</td>\n",
       "      <td>30.625</td>\n",
       "      <td>32.100</td>\n",
       "    </tr>\n",
       "    <tr>\n",
       "      <th>2</th>\n",
       "      <td>62.25</td>\n",
       "      <td>60.50</td>\n",
       "      <td>175.925</td>\n",
       "      <td>163.450</td>\n",
       "      <td>29.875</td>\n",
       "      <td>32.850</td>\n",
       "    </tr>\n",
       "  </tbody>\n",
       "</table>\n",
       "</div>"
      ],
      "text/plain": [
       "0.75             RIDAGEYR           BMXHT           BMXBMI        \n",
       "RIAGENDR                1      2        1        2       1       2\n",
       "SDMVSTRA SDMVPSU                                                  \n",
       "119      1          62.25  62.75  177.825  163.900  28.500  33.675\n",
       "         2          69.00  69.00  178.225  164.300  29.400  31.850\n",
       "120      1          55.50  57.00  175.800  159.800  35.100  36.900\n",
       "         2          59.00  54.25  178.900  164.400  30.600  30.850\n",
       "121      1          63.00  57.50  177.700  163.650  33.000  34.600\n",
       "         2          53.50  56.00  179.300  164.800  28.100  29.600\n",
       "122      1          58.75  55.00  178.600  166.925  31.500  33.575\n",
       "         2          58.00  60.00  175.200  161.075  27.600  30.900\n",
       "123      1          61.00  60.00  179.025  167.200  32.625  34.425\n",
       "         2          67.00  62.75  178.400  165.800  32.750  34.775\n",
       "124      1          65.00  64.00  176.700  163.325  31.350  33.250\n",
       "         2          65.00  52.50  179.600  167.650  31.700  31.600\n",
       "125      1          70.00  65.00  178.900  165.400  33.500  33.700\n",
       "         2          65.75  67.00  178.825  165.200  33.300  33.650\n",
       "126      1          66.25  61.00  180.700  164.500  32.700  36.400\n",
       "         2          66.00  62.75  179.000  167.300  31.700  34.300\n",
       "127      1          68.00  63.00  176.675  160.850  34.700  37.650\n",
       "         2          68.00  65.00  179.100  164.700  33.350  34.500\n",
       "128      1          69.00  70.00  174.450  160.725  34.450  35.975\n",
       "         2          57.00  55.00  177.250  165.625  29.350  31.625\n",
       "129      1          53.75  57.00  177.400  162.600  29.125  33.050\n",
       "         2          60.00  56.25  178.400  165.625  31.300  33.000\n",
       "130      1          69.00  65.00  182.100  166.850  33.100  35.800\n",
       "         2          64.50  65.25  179.300  165.725  32.700  34.700\n",
       "131      1          72.50  77.00  180.400  167.175  31.825  35.300\n",
       "         2          60.00  55.00  178.725  165.475  33.425  37.475\n",
       "132      1          52.25  58.00  178.200  166.950  31.200  34.700\n",
       "         2          69.00  69.00  178.475  164.300  33.425  35.325\n",
       "133      1          59.00  61.00  176.000  162.625  30.625  32.100\n",
       "         2          62.25  60.50  175.925  163.450  29.875  32.850"
      ]
     },
     "execution_count": 84,
     "metadata": {},
     "output_type": "execute_result"
    }
   ],
   "source": [
    "(da.groupby([\"SDMVSTRA\", \"SDMVPSU\", \"RIAGENDR\"])[[\"RIDAGEYR\", \"BMXHT\", \"BMXBMI\"]].quantile(.75)).unstack()"
   ]
  },
  {
   "cell_type": "code",
   "execution_count": 85,
   "metadata": {},
   "outputs": [],
   "source": [
    "dage = (da.groupby([\"SDMVSTRA\", \"SDMVPSU\", \"RIAGENDR\"])[[\"RIDAGEYR\", \"BMXHT\", \"BMXBMI\"]].mean()).unstack()"
   ]
  },
  {
   "cell_type": "code",
   "execution_count": 86,
   "metadata": {},
   "outputs": [
    {
     "data": {
      "text/plain": [
       "RIAGENDR\n",
       "1    0.762493\n",
       "2    0.764609\n",
       "dtype: float64"
      ]
     },
     "execution_count": 86,
     "metadata": {},
     "output_type": "execute_result"
    }
   ],
   "source": [
    "dage[\"RIDAGEYR\"].min()/dage[\"RIDAGEYR\"].max()"
   ]
  },
  {
   "cell_type": "code",
   "execution_count": 88,
   "metadata": {},
   "outputs": [
    {
     "data": {
      "text/plain": [
       "RIAGENDR\n",
       "1    0.956778\n",
       "2    0.954244\n",
       "dtype: float64"
      ]
     },
     "execution_count": 88,
     "metadata": {},
     "output_type": "execute_result"
    }
   ],
   "source": [
    "dage[\"BMXHT\"].min()/dage[\"BMXHT\"].max()"
   ]
  },
  {
   "cell_type": "code",
   "execution_count": 89,
   "metadata": {},
   "outputs": [
    {
     "data": {
      "text/plain": [
       "RIAGENDR\n",
       "1    0.810874\n",
       "2    0.802537\n",
       "dtype: float64"
      ]
     },
     "execution_count": 89,
     "metadata": {},
     "output_type": "execute_result"
    }
   ],
   "source": [
    "dage[\"BMXBMI\"].min()/dage[\"BMXBMI\"].max()"
   ]
  },
  {
   "cell_type": "code",
   "execution_count": null,
   "metadata": {},
   "outputs": [],
   "source": []
  }
 ],
 "metadata": {
  "kernelspec": {
   "display_name": "Python 3",
   "language": "python",
   "name": "python3"
  },
  "language_info": {
   "codemirror_mode": {
    "name": "ipython",
    "version": 3
   },
   "file_extension": ".py",
   "mimetype": "text/x-python",
   "name": "python",
   "nbconvert_exporter": "python",
   "pygments_lexer": "ipython3",
   "version": "3.7.1"
  }
 },
 "nbformat": 4,
 "nbformat_minor": 2
}
